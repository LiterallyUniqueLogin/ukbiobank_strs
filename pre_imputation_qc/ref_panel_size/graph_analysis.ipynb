{
 "cells": [
  {
   "cell_type": "code",
   "execution_count": 1,
   "metadata": {},
   "outputs": [],
   "source": [
    "import numpy as np\n",
    "import matplotlib.pyplot as plt\n",
    "import analyze\n",
    "from analyze import CallAggregator\n",
    "from scipy import interpolate"
   ]
  },
  {
   "cell_type": "code",
   "execution_count": 22,
   "metadata": {},
   "outputs": [],
   "source": [
    "data = analyze.load_pickle()"
   ]
  },
  {
   "cell_type": "code",
   "execution_count": 4,
   "metadata": {},
   "outputs": [
    {
     "name": "stdout",
     "output_type": "stream",
     "text": [
      "dict_keys(['nloci', 'ncalls', 'ncorrect_unphased', 'ncorrect_phased', 'ncalls_not_in_ref', 'sample_acc', 'loci_acc', 'unphased_call_calibration', 'phased_call_calibration'])\n"
     ]
    }
   ],
   "source": [
    "print(data.keys())"
   ]
  },
  {
   "cell_type": "markdown",
   "metadata": {},
   "source": [
    "# Analysis of unphased calls"
   ]
  },
  {
   "cell_type": "code",
   "execution_count": 46,
   "metadata": {
    "scrolled": true
   },
   "outputs": [
    {
     "name": "stdout",
     "output_type": "stream",
     "text": [
      "Total calls: 9716850\n",
      "Overall accuracy: 91.90%\n"
     ]
    },
    {
     "data": {
      "text/plain": [
       "[<matplotlib.lines.Line2D at 0x2b6aba64c2e8>]"
      ]
     },
     "execution_count": 46,
     "metadata": {},
     "output_type": "execute_result"
    },
    {
     "data": {
      "image/png": "[encoded data removed]",
      "text/plain": [
       "<Figure size 432x288 with 1 Axes>"
      ]
     },
     "metadata": {
      "needs_background": "light"
     },
     "output_type": "display_data"
    }
   ],
   "source": [
    "print(\"Total calls: {}\".format(data['ncalls']))\n",
    "print(\"Overall accuracy: {:.2%}\".format(data['ncorrect_unphased']/data['ncalls']))\n",
    "\n",
    "ucc = data['unphased_call_calibration']\n",
    "results = []\n",
    "call_iter = iter(ucc.call_bins.values())\n",
    "success_iter = iter(ucc.success_bins.values())\n",
    "while True:\n",
    "    call_num = next(call_iter, None)\n",
    "    success_num = next(success_iter, None)\n",
    "    if call_num is None:\n",
    "        break\n",
    "    if call_num == 0:\n",
    "        continue\n",
    "    results.append(success_num/call_num)\n",
    "plt.plot(range(len(results)), results)\n",
    "expectedResults = [0]\n",
    "for idx in list(ucc.call_bins.keys())[1:-2]:\n",
    "    expectedResults.append(idx + ucc.bin_size/2)\n",
    "expectedResults.append(1)\n",
    "plt.plot(range(len(results)), expectedResults, 'r')"
   ]
  },
  {
   "cell_type": "code",
   "execution_count": 47,
   "metadata": {},
   "outputs": [
    {
     "data": {
      "text/plain": [
       "{1, 2}"
      ]
     },
     "execution_count": 47,
     "metadata": {},
     "output_type": "execute_result"
    }
   ],
   "source": [
    "set([1,2])"
   ]
  },
  {
   "cell_type": "code",
   "execution_count": null,
   "metadata": {},
   "outputs": [],
   "source": [
    "#reference\n",
    "#https://docs.scipy.org/doc/scipy/reference/generated/scipy.interpolate.splrep.html#scipy.interpolate.splrep\n",
    "#can't get this to work ...\n",
    "#maybe because there are duplicate x values?\n",
    "#maybe because the x-values aren't sorted?\n",
    "ucc = data['unphased_call_calibration']\n",
    "spline = interpolate.splrep(ucc.calls[:ucc.ncalls], np.array(ucc.call_successes[:ucc.ncalls], dtype=float), s = 100000, xb=0, xe=1)\n",
    "xs = np.linspace(0, 1, 1000)\n",
    "ys = interpolate.splev(xs, spline)\n",
    "plt.plot(xs, ys)"
   ]
  }
 ],
 "metadata": {
  "kernelspec": {
   "display_name": "Python 3",
   "language": "python",
   "name": "python3"
  },
  "language_info": {
   "codemirror_mode": {
    "name": "ipython",
    "version": 3
   },
   "file_extension": ".py",
   "mimetype": "text/x-python",
   "name": "python",
   "nbconvert_exporter": "python",
   "pygments_lexer": "ipython3",
   "version": "3.6.9"
  }
 },
 "nbformat": 4,
 "nbformat_minor": 2
}
