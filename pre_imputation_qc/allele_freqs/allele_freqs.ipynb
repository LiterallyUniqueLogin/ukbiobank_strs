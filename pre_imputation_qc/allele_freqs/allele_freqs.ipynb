{
 "cells": [
  {
   "cell_type": "code",
   "execution_count": 3,
   "metadata": {},
   "outputs": [],
   "source": [
    "import numpy as np\n",
    "import matplotlib.pyplot as plt\n",
    "import csv\n",
    "\n",
    "#Root of jupyter notebook is /projects/ps-gymreklab/resources/ukbiobank"
   ]
  },
  {
   "cell_type": "code",
   "execution_count": 4,
   "metadata": {},
   "outputs": [],
   "source": [
    "def loadFreqs(freqLocation, identifyingVCFLocation, cNum, vcfHeaderLines):\n",
    "    lociToFreqs = {}\n",
    "    with open('{}/chr{}.afreq'.format(freqLocation, cNum)) as freqFile, \\\n",
    "            open('{}/chr{}.vcf'.format(identifyingVCFLocation, cNum)) as vcfFile:\n",
    "        freqReader = csv.reader(freqFile, delimiter='\\t')\n",
    "        vcfReader = csv.reader(vcfFile, delimiter='\\t')\n",
    "\n",
    "        #skip header lines\n",
    "        next(freqReader)\n",
    "        for _ in range(vcfHeaderLines):\n",
    "            next(vcfReader)\n",
    "\n",
    "\n",
    "        count = 0\n",
    "        for freqRow, vcfRow in zip(freqReader, vcfReader):\n",
    "            count += 1\n",
    "            if freqRow[1] != vcfRow[2]:\n",
    "                print(\"Mismatched vcf and afreq IDs at variant {}\".format(count))\n",
    "                1/0\n",
    "            variantKey = tuple(vcfRow[i] for i in[0,1,3,4])\n",
    "            if variantKey in lociToFreqs:\n",
    "                print(\"Already encountered variant {}\".format(count))\n",
    "                1/0\n",
    "            lociToFreqs[variantKey] = freqRow[4]\n",
    "\n",
    "            if count % 100000 == 0:\n",
    "                print(\"Count {}k   \".format(count/1000), end='\\r')\n",
    "            \n",
    "    return lociToFreqs"
   ]
  },
  {
   "cell_type": "code",
   "execution_count": null,
   "metadata": {},
   "outputs": [],
   "source": [
    "#set({'a':4,'c':7}.keys()).intersection(set({'a':1, \"b\":2}.keys()))\n",
    "pass"
   ]
  },
  {
   "cell_type": "code",
   "execution_count": 20,
   "metadata": {},
   "outputs": [
    {
     "name": "stdout",
     "output_type": "stream",
     "text": [
      "Count 300.0k   \r"
     ]
    }
   ],
   "source": [
    "variantCount = 0\n",
    "xs = np.zeros(1000000)\n",
    "ys = np.zeros(1000000)\n",
    "\n",
    "#for cNum in range(1,23):\n",
    "for cNum in range(22,23):\n",
    "    snpstrFreqs = loadFreqs(\"/projects/ps-gymreklab/resources/ukbiobank/pre_imputation_qc/allele_freqs/snpstr\",\n",
    "                            \"/projects/ps-gymreklab/resources/ukbiobank/snpstr/vcf_1_sample\", cNum, 11)\n",
    "    hapFreqs = loadFreqs(\"/projects/ps-gymreklab/resources/ukbiobank/pre_imputation_qc/allele_freqs/hap\",\n",
    "                            \"/projects/ps-gymreklab/resources/ukbiobank/original/vcf_1_sample/hap\", cNum, 6)\n",
    "    commonKeys = set(snpstrFreqs.keys()).intersection(set(hapFreqs.keys()))\n",
    "    for key in commonKeys:\n",
    "        xs[variantCount] = snpstrFreqs[key]\n",
    "        ys[variantCount] = hapFreqs[key]\n",
    "        variantCount += 1\n"
   ]
  },
  {
   "cell_type": "code",
   "execution_count": null,
   "metadata": {},
   "outputs": [],
   "source": [
    "plt.hexbin(xs, ys, cmap='Blues')\n",
    "plt.colorbar(label='count in bin')"
   ]
  },
  {
   "cell_type": "code",
   "execution_count": 28,
   "metadata": {},
   "outputs": [
    {
     "name": "stdout",
     "output_type": "stream",
     "text": [
      "('22', '16050115', 'G', 'A') 0.00638978\n",
      "('22', '16050213', 'C', 'T') 0.00758786\n",
      "('22', '16050527', 'C', 'A') 0.000199681\n",
      "('22', '16050607', 'G', 'A') 0.000998403\n",
      "('22', '16050783', 'A', 'G') 0.00778754\n",
      "('22', '16050840', 'C', 'G') 0.00519169\n",
      "('22', '16050847', 'T', 'C') 0.00119808\n",
      "('22', '16050984', 'C', 'G') 0.00399361\n",
      "('22', '16051075', 'G', 'A') 0.00139776\n",
      "('22', '16051246', 'G', 'A') 0.000199681\n",
      "Hap\n",
      "('22', '16057417', 'T', 'C') 0.897911\n",
      "('22', '16495833', 'A', 'C') 0.921837\n",
      "('22', '16595552', 'A', 'C') 0.959743\n",
      "('22', '16870425', 'T', 'C') 0.6884\n",
      "('22', '16880098', 'A', 'G') 0.941511\n",
      "('22', '16888577', 'A', 'G') 0.709247\n",
      "('22', '16890136', 'A', 'G') 0.977362\n",
      "('22', '16915685', 'A', 'G') 0.99911\n",
      "('22', '16952830', 'C', 'G') 0.984883\n",
      "('22', '17054795', 'A', 'G') 0.874829\n"
     ]
    }
   ],
   "source": [
    "for i, key in enumerate(snpstrFreqs.keys()):\n",
    "    if i==10:\n",
    "        break\n",
    "    print(key, snpstrFreqs[key])\n",
    "print(\"Hap\")\n",
    "for i, key in enumerate(hapFreqs.keys()):\n",
    "    if i==10:\n",
    "        break\n",
    "    print(key, hapFreqs[key])"
   ]
  },
  {
   "cell_type": "code",
   "execution_count": 31,
   "metadata": {},
   "outputs": [
    {
     "name": "stdout",
     "output_type": "stream",
     "text": [
      "(0, 0)\n",
      "(1, 1)\n",
      "(2, 2)\n"
     ]
    }
   ],
   "source": []
  }
 ],
 "metadata": {
  "kernelspec": {
   "display_name": "Python 3",
   "language": "python",
   "name": "python3"
  },
  "language_info": {
   "codemirror_mode": {
    "name": "ipython",
    "version": 3
   },
   "file_extension": ".py",
   "mimetype": "text/x-python",
   "name": "python",
   "nbconvert_exporter": "python",
   "pygments_lexer": "ipython3",
   "version": "3.6.9"
  }
 },
 "nbformat": 4,
 "nbformat_minor": 2
}
